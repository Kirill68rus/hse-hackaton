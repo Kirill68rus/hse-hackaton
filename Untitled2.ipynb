{
  "nbformat" : 4,
  "nbformat_minor" : 5,
  "metadata" : {
    "notebookPath" : "hse-hackaton/Untitled2.ipynb",
    "language_info" : {
      "codemirror_mode" : {
        "name" : "ipython",
        "version" : 3
      },
      "file_extension" : ".py",
      "mimetype" : "text/x-python",
      "name" : "python",
      "nbconvert_exporter" : "python",
      "pygments_lexer" : "ipython3",
      "version" : "3.7.7"
    },
    "notebookId" : "6dbb16f6-dbdc-48f6-8450-1b0476205e59",
    "kernelspec" : {
      "name" : "python3",
      "description" : "IPython kernel implementation for DataSphere",
      "spec" : {
        "language" : "python",
        "display_name" : "DataSphere Kernel",
        "codemirror_mode" : "python",
        "argv" : [ "/bin/true" ],
        "env" : { },
        "help_links" : [ ],
        "metadata" : {
          "app" : "YANDEX_DATASPHERE"
        }
      },
      "resources" : { },
      "display_name" : "DataSphere Kernel"
    }
  },
  "cells" : [ {
    "cell_type" : "code",
    "source" : [ ],
    "metadata" : {
      "cellId" : "qty0zk6w9qqgju31uej3r"
    },
    "outputs" : [ ],
    "execution_count" : null,
    "id" : "846edaf5"
  }, {
    "cell_type" : "code",
    "source" : [ ],
    "metadata" : {
      "cellId" : "ezaouu3zjvsnp2i3qtezh"
    },
    "outputs" : [ ],
    "execution_count" : null,
    "id" : "6ad5dfc4"
  }, {
    "cell_type" : "code",
    "source" : [ ],
    "metadata" : {
      "cellId" : "st6uq7dde9lma3lqfu8ovt"
    },
    "outputs" : [ ],
    "execution_count" : null,
    "id" : "2d44ff05"
  }, {
    "cell_type" : "code",
    "source" : [ ],
    "metadata" : {
      "cellId" : "da4so41r8ouue7ai6f0kj7"
    },
    "outputs" : [ ],
    "execution_count" : null,
    "id" : "73603e67"
  } ]
}