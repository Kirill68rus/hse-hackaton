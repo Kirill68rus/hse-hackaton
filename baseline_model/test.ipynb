{
 "cells": [
  {
   "cell_type": "code",
   "execution_count": null,
   "id": "95a53fe3",
   "metadata": {
    "cellId": "opdtmf2zaf9h1uwa7y9q6m",
    "execution_id": "f64f0c0e-60b3-41f3-b069-02388c68ae7a"
   },
   "outputs": [],
   "source": [
    "%pip install sentencepiece"
   ]
  },
  {
   "cell_type": "code",
   "execution_count": null,
   "id": "541e46b9",
   "metadata": {
    "cellId": "84r9xhrch64ru7nz58uzg",
    "execution_id": "7638a22a-2199-402f-8e98-ee71f00ce563"
   },
   "outputs": [],
   "source": [
    "#!g1.1\n"
   ]
  },
  {
   "cell_type": "code",
   "execution_count": 985,
   "id": "443e9f60",
   "metadata": {
    "cellId": "h7z1sf2ltfjil7umqhbcz"
   },
   "outputs": [
    {
     "name": "stdout",
     "output_type": "stream",
     "text": [
      "Defaulting to user installation because normal site-packages is not writeable\n",
      "Requirement already satisfied: transformers in /home/jupyter/.local/lib/python3.8/site-packages (4.27.4)\n",
      "Requirement already satisfied: datasets in /home/jupyter/.local/lib/python3.8/site-packages (2.11.0)\n",
      "Requirement already satisfied: accelerate in /home/jupyter/.local/lib/python3.8/site-packages (0.18.0)\n",
      "Requirement already satisfied: deepspeed in /home/jupyter/.local/lib/python3.8/site-packages (0.8.3)\n",
      "Requirement already satisfied: numpy>=1.17 in /usr/local/lib/python3.8/dist-packages (from transformers) (1.19.2)\n",
      "Requirement already satisfied: tqdm>=4.27 in /home/jupyter/.local/lib/python3.8/site-packages (from transformers) (4.65.0)\n",
      "Requirement already satisfied: huggingface-hub<1.0,>=0.11.0 in /home/jupyter/.local/lib/python3.8/site-packages (from transformers) (0.13.4)\n",
      "Requirement already satisfied: tokenizers!=0.11.3,<0.14,>=0.11.1 in /home/jupyter/.local/lib/python3.8/site-packages (from transformers) (0.13.3)\n",
      "Requirement already satisfied: regex!=2019.12.17 in /usr/local/lib/python3.8/dist-packages (from transformers) (2021.11.10)\n",
      "Requirement already satisfied: filelock in /usr/local/lib/python3.8/dist-packages (from transformers) (3.4.2)\n",
      "Requirement already satisfied: packaging>=20.0 in /kernel/lib/python3.8/site-packages (from transformers) (20.9)\n",
      "Requirement already satisfied: requests in /kernel/lib/python3.8/site-packages (from transformers) (2.28.2)\n",
      "Requirement already satisfied: pyyaml>=5.1 in /usr/local/lib/python3.8/dist-packages (from transformers) (5.3.1)\n",
      "Requirement already satisfied: pandas in /usr/local/lib/python3.8/dist-packages (from datasets) (0.25.3)\n",
      "Requirement already satisfied: pyarrow>=8.0.0 in /home/jupyter/.local/lib/python3.8/site-packages (from datasets) (11.0.0)\n",
      "Requirement already satisfied: aiohttp in /usr/local/lib/python3.8/dist-packages (from datasets) (3.8.1)\n",
      "Requirement already satisfied: responses<0.19 in /usr/local/lib/python3.8/dist-packages (from datasets) (0.10.15)\n",
      "Requirement already satisfied: dill<0.3.7,>=0.3.0 in /home/jupyter/.local/lib/python3.8/site-packages (from datasets) (0.3.6)\n",
      "Requirement already satisfied: fsspec[http]>=2021.11.1 in /usr/local/lib/python3.8/dist-packages (from datasets) (2021.11.1)\n",
      "Requirement already satisfied: multiprocess in /home/jupyter/.local/lib/python3.8/site-packages (from datasets) (0.70.14)\n",
      "Requirement already satisfied: xxhash in /kernel/fallback/lib/python3.8/site-packages (from datasets) (2.0.0)\n",
      "Requirement already satisfied: psutil in /kernel/lib/python3.8/site-packages (from accelerate) (5.7.3)\n",
      "Requirement already satisfied: torch>=1.4.0 in /usr/local/lib/python3.8/dist-packages (from accelerate) (1.9.1+cu111)\n",
      "Requirement already satisfied: pydantic in /usr/local/lib/python3.8/dist-packages (from deepspeed) (1.8.2)\n",
      "Requirement already satisfied: py-cpuinfo in /home/jupyter/.local/lib/python3.8/site-packages (from deepspeed) (9.0.0)\n",
      "Requirement already satisfied: hjson in /home/jupyter/.local/lib/python3.8/site-packages (from deepspeed) (3.1.0)\n",
      "Requirement already satisfied: ninja in /home/jupyter/.local/lib/python3.8/site-packages (from deepspeed) (1.11.1)\n",
      "Requirement already satisfied: typing-extensions>=3.7.4.3 in /usr/local/lib/python3.8/dist-packages (from huggingface-hub<1.0,>=0.11.0->transformers) (3.7.4.3)\n",
      "Requirement already satisfied: pyparsing>=2.0.2 in /kernel/lib/python3.8/site-packages (from packaging>=20.0->transformers) (2.4.7)\n",
      "Requirement already satisfied: urllib3<1.27,>=1.21.1 in /kernel/lib/python3.8/site-packages (from requests->transformers) (1.26.15)\n",
      "Requirement already satisfied: certifi>=2017.4.17 in /kernel/lib/python3.8/site-packages (from requests->transformers) (2022.12.7)\n",
      "Requirement already satisfied: idna<4,>=2.5 in /kernel/lib/python3.8/site-packages (from requests->transformers) (3.4)\n",
      "Requirement already satisfied: charset-normalizer<4,>=2 in /kernel/lib/python3.8/site-packages (from requests->transformers) (3.1.0)\n",
      "Requirement already satisfied: six in /kernel/lib/python3.8/site-packages (from responses<0.19->datasets) (1.16.0)\n",
      "Collecting charset-normalizer<4,>=2\n",
      "  Downloading charset_normalizer-2.1.1-py3-none-any.whl (39 kB)\n",
      "Requirement already satisfied: frozenlist>=1.1.1 in /usr/local/lib/python3.8/dist-packages (from aiohttp->datasets) (1.2.0)\n",
      "Requirement already satisfied: yarl<2.0,>=1.0 in /usr/local/lib/python3.8/dist-packages (from aiohttp->datasets) (1.7.2)\n",
      "Requirement already satisfied: aiosignal>=1.1.2 in /usr/local/lib/python3.8/dist-packages (from aiohttp->datasets) (1.2.0)\n",
      "Requirement already satisfied: multidict<7.0,>=4.5 in /usr/local/lib/python3.8/dist-packages (from aiohttp->datasets) (5.2.0)\n",
      "Requirement already satisfied: async-timeout<5.0,>=4.0.0a3 in /usr/local/lib/python3.8/dist-packages (from aiohttp->datasets) (4.0.2)\n",
      "Requirement already satisfied: attrs>=17.3.0 in /kernel/lib/python3.8/site-packages (from aiohttp->datasets) (22.2.0)\n",
      "Requirement already satisfied: pytz>=2017.2 in /usr/local/lib/python3.8/dist-packages (from pandas->datasets) (2021.3)\n",
      "Requirement already satisfied: python-dateutil>=2.6.1 in /kernel/lib/python3.8/site-packages (from pandas->datasets) (2.8.2)\n",
      "Installing collected packages: charset-normalizer\n",
      "\u001b[33m  WARNING: The script normalizer is installed in '/home/jupyter/.local/bin' which is not on PATH.\n",
      "  Consider adding this directory to PATH or, if you prefer to suppress this warning, use --no-warn-script-location.\u001b[0m\n",
      "\u001b[31mERROR: pip's dependency resolver does not currently take into account all the packages that are installed. This behaviour is the source of the following dependency conflicts.\n",
      "moto 1.3.14 requires idna<2.9,>=2.5, but you have idna 3.4 which is incompatible.\n",
      "kaggle 1.5.8 requires urllib3<1.25,>=1.21.1, but you have urllib3 1.26.15 which is incompatible.\n",
      "cloud-ml 0.0.1 requires requests<=2.25.1,>=2.22.0, but you have requests 2.28.2 which is incompatible.\n",
      "cloud-ml 0.0.1 requires tqdm<=4.54.1,>=4.45.0, but you have tqdm 4.65.0 which is incompatible.\u001b[0m\n",
      "Successfully installed charset-normalizer-2.1.1\n",
      "\u001b[33mWARNING: You are using pip version 21.3.1; however, version 23.0.1 is available.\n",
      "You should consider upgrading via the '/usr/local/bin/python3 -m pip install --upgrade pip' command.\u001b[0m\n"
     ]
    }
   ],
   "source": [
    "#!g1.1\n",
    "import torch\n",
    "\n",
    "import pandas as pd\n",
    "import numpy as np\n",
    "import math\n",
    "\n",
    "import nltk\n",
    "\n",
    "from nltk.tokenize import word_tokenize, wordpunct_tokenize\n",
    "\n",
    "\n",
    "%pip install --upgrade transformers datasets accelerate deepspeed\n",
    "import torch\n",
    "import torch.nn as nn\n",
    "import torch.nn.functional as F\n",
    "import transformers\n",
    "# import datasets"
   ]
  },
  {
   "cell_type": "code",
   "execution_count": 986,
   "id": "7728c2be",
   "metadata": {
    "cellId": "t59zouke3si9n4c7phledg"
   },
   "outputs": [],
   "source": [
    "#!g1.1\n",
    "import matplotlib.pyplot as plt\n",
    "%matplotlib inline\n",
    "import json\n",
    "from IPython.display import clear_output\n",
    "import copy"
   ]
  },
  {
   "cell_type": "code",
   "execution_count": null,
   "id": "2ff4099d",
   "metadata": {
    "cellId": "1aobrx7gy5kvk8qacejjs",
    "execution_id": "04764d69-d337-4d5b-9338-b758c30b14ad"
   },
   "outputs": [],
   "source": [
    "#!g1.1\n",
    "import os\n",
    "# TOKENIZERS_PARALLELISM=(true | false)\n",
    "os.environ[\"TOKENIZERS_PARALLELISM\"] = 'true'"
   ]
  },
  {
   "cell_type": "code",
   "execution_count": 987,
   "id": "a1798c19",
   "metadata": {
    "cellId": "w7w83h7x9jml6oaewebuwc"
   },
   "outputs": [
    {
     "data": {
      "application/vnd.jupyter.widget-view+json": {
       "model_id": "b5b72b6c78ea40ca9d91b223428c66e1",
       "version_major": 2,
       "version_minor": 0
      },
      "text/plain": [
       "Downloading (…)okenizer_config.json:   0%|          | 0.00/341 [00:00<?, ?B/s]"
      ]
     },
     "metadata": {},
     "output_type": "display_data"
    },
    {
     "data": {
      "application/vnd.jupyter.widget-view+json": {
       "model_id": "77e40061b1b64e878efd7763211ea3e4",
       "version_major": 2,
       "version_minor": 0
      },
      "text/plain": [
       "Downloading (…)lve/main/config.json:   0%|          | 0.00/632 [00:00<?, ?B/s]"
      ]
     },
     "metadata": {},
     "output_type": "display_data"
    },
    {
     "data": {
      "application/vnd.jupyter.widget-view+json": {
       "model_id": "7f504c5d2bb441e68b4678ed1d322d18",
       "version_major": 2,
       "version_minor": 0
      },
      "text/plain": [
       "Downloading (…)solve/main/vocab.txt:   0%|          | 0.00/241k [00:00<?, ?B/s]"
      ]
     },
     "metadata": {},
     "output_type": "display_data"
    },
    {
     "data": {
      "application/vnd.jupyter.widget-view+json": {
       "model_id": "77a0173bc88d4b228e9353541f831181",
       "version_major": 2,
       "version_minor": 0
      },
      "text/plain": [
       "Downloading (…)/main/tokenizer.json:   0%|          | 0.00/468k [00:00<?, ?B/s]"
      ]
     },
     "metadata": {},
     "output_type": "display_data"
    },
    {
     "data": {
      "application/vnd.jupyter.widget-view+json": {
       "model_id": "b7fbdf9698c447bb8e5015fbd14a89c4",
       "version_major": 2,
       "version_minor": 0
      },
      "text/plain": [
       "Downloading (…)cial_tokens_map.json:   0%|          | 0.00/112 [00:00<?, ?B/s]"
      ]
     },
     "metadata": {},
     "output_type": "display_data"
    },
    {
     "data": {
      "application/vnd.jupyter.widget-view+json": {
       "model_id": "b4e04ce1fb834b32aabfd2dc19a5948a",
       "version_major": 2,
       "version_minor": 0
      },
      "text/plain": [
       "Downloading pytorch_model.bin:   0%|          | 0.00/47.7M [00:00<?, ?B/s]"
      ]
     },
     "metadata": {},
     "output_type": "display_data"
    },
    {
     "name": "stderr",
     "output_type": "stream",
     "text": [
      "Some weights of the model checkpoint at cointegrated/rubert-tiny were not used when initializing BertForSequenceClassification: ['cls.predictions.decoder.weight', 'cls.predictions.transform.dense.bias', 'cls.predictions.transform.dense.weight', 'cls.predictions.transform.LayerNorm.weight', 'cls.seq_relationship.weight', 'cls.predictions.bias', 'cls.seq_relationship.bias', 'cls.predictions.decoder.bias', 'cls.predictions.transform.LayerNorm.bias']\n",
      "- This IS expected if you are initializing BertForSequenceClassification from the checkpoint of a model trained on another task or with another architecture (e.g. initializing a BertForSequenceClassification model from a BertForPreTraining model).\n",
      "- This IS NOT expected if you are initializing BertForSequenceClassification from the checkpoint of a model that you expect to be exactly identical (initializing a BertForSequenceClassification model from a BertForSequenceClassification model).\n",
      "Some weights of BertForSequenceClassification were not initialized from the model checkpoint at cointegrated/rubert-tiny and are newly initialized: ['classifier.bias', 'classifier.weight']\n",
      "You should probably TRAIN this model on a down-stream task to be able to use it for predictions and inference.\n"
     ]
    }
   ],
   "source": [
    "#!g1.1\n",
    "# model_name = \"Tatyana/rubert-base-cased-sentiment-new\"\n",
    "# tokenizer = transformers.AutoTokenizer.from_pretrained(model_name)\n",
    "\n",
    "# base_model = transformers.AutoModelForSequenceClassification.from_pretrained(model_name)\n",
    "\n",
    "\n",
    "model_name = \"cointegrated/rubert-tiny\"\n",
    "tokenizer = transformers.AutoTokenizer.from_pretrained(model_name)\n",
    "\n",
    "base_model = transformers.AutoModelForSequenceClassification.from_pretrained(model_name)"
   ]
  },
  {
   "cell_type": "code",
   "execution_count": 878,
   "id": "9159ab83",
   "metadata": {
    "cellId": "h96d8plk7e56d4ihspqr7"
   },
   "outputs": [],
   "source": [
    "#!g1.1\n",
    "# base_model"
   ]
  },
  {
   "cell_type": "code",
   "execution_count": 989,
   "id": "8db780a2",
   "metadata": {
    "cellId": "dum67ndv14m0i5948u4us"
   },
   "outputs": [],
   "source": [
    "#!g1.1\n",
    "DATA_PATH = '/home/jupyter/mnt/s3/dataset_hackaton/'"
   ]
  },
  {
   "cell_type": "code",
   "execution_count": 880,
   "id": "3482658a",
   "metadata": {
    "cellId": "q8wvy5j6u4phvs7f9wtyd7"
   },
   "outputs": [
    {
     "ename": "Execute error",
     "evalue": "Servant c1.4 not allocated: Internal Error",
     "output_type": "error",
     "traceback": []
    },
    {
     "name": "stdout",
     "output_type": "stream",
     "text": [
      "bank-categories.csv\n",
      "bank-sentiment.csv\n",
      "banki.csv\n",
      "banks-ethic-DB - NEW.docx\n",
      "homework_shad_da.ipynb.txt\n",
      "model_1.pth\n",
      "model_2.pth\n",
      "model_3.pth\n",
      "relations.html\n",
      "sentiment.csv\n",
      "train.csv\n",
      "train_OHE.csv\n"
     ]
    }
   ],
   "source": [
    "#!g1.1\n",
    "!ls /home/jupyter/mnt/s3/dataset_hackaton/"
   ]
  },
  {
   "cell_type": "code",
   "execution_count": 1001,
   "id": "f4497cd4",
   "metadata": {
    "cellId": "51f4ljuqgpn27aspwi5idn"
   },
   "outputs": [],
   "source": [
    "#!g1.1\n",
    "train_df = pd.read_csv(DATA_PATH + 'train_OHE.csv')\n",
    "\n",
    "dop_df = pd.read_csv(DATA_PATH + 'dop_df_en_ru.csv')\n",
    "\n",
    "bank_categories_df = pd.read_csv(DATA_PATH + 'bank-sentiment.csv')\n",
    "bank_sentiment_df = pd.read_csv(DATA_PATH + 'bank-categories.csv')\n"
   ]
  },
  {
   "cell_type": "code",
   "execution_count": 1002,
   "id": "fc7d3682",
   "metadata": {
    "cellId": "15wldi0cc9rto071xikrwb"
   },
   "outputs": [],
   "source": [
    "#!g1.1\n",
    "# bank_categories_df"
   ]
  },
  {
   "cell_type": "code",
   "execution_count": 1003,
   "id": "3bcce07c",
   "metadata": {
    "cellId": "r9klh89kcmqd0c55qefgt"
   },
   "outputs": [
    {
     "data": {
      "text/html": [
       "<div>\n",
       "<style scoped>\n",
       "    .dataframe tbody tr th:only-of-type {\n",
       "        vertical-align: middle;\n",
       "    }\n",
       "\n",
       "    .dataframe tbody tr th {\n",
       "        vertical-align: top;\n",
       "    }\n",
       "\n",
       "    .dataframe thead th {\n",
       "        text-align: right;\n",
       "    }\n",
       "</style>\n",
       "<table border=\"1\" class=\"dataframe\">\n",
       "  <thead>\n",
       "    <tr style=\"text-align: right;\">\n",
       "      <th></th>\n",
       "      <th>Unnamed: 0</th>\n",
       "      <th>Unnamed: 0.1</th>\n",
       "      <th>sentence</th>\n",
       "      <th>1category</th>\n",
       "      <th>2category</th>\n",
       "      <th>sentiment</th>\n",
       "    </tr>\n",
       "  </thead>\n",
       "  <tbody>\n",
       "    <tr>\n",
       "      <th>0</th>\n",
       "      <td>0</td>\n",
       "      <td>4754</td>\n",
       "      <td>При этом всегда получал качественные услуги.</td>\n",
       "      <td>[0, 1, 0, 0, 0]</td>\n",
       "      <td>[0, 0, 0, 0, 0]</td>\n",
       "      <td>[1, 0, 0]</td>\n",
       "    </tr>\n",
       "    <tr>\n",
       "      <th>1</th>\n",
       "      <td>1</td>\n",
       "      <td>4417</td>\n",
       "      <td>Не вижу, за что хотя бы 2 поставить, сервис на 1!</td>\n",
       "      <td>[1, 0, 0, 0, 0]</td>\n",
       "      <td>[0, 0, 0, 0, 0]</td>\n",
       "      <td>[0, 0, 1]</td>\n",
       "    </tr>\n",
       "    <tr>\n",
       "      <th>2</th>\n",
       "      <td>2</td>\n",
       "      <td>3629</td>\n",
       "      <td>Вот так \"Мой любимый\" банк МКБ меня обманул.</td>\n",
       "      <td>[1, 0, 0, 0, 0]</td>\n",
       "      <td>[0, 0, 0, 0, 0]</td>\n",
       "      <td>[0, 0, 1]</td>\n",
       "    </tr>\n",
       "    <tr>\n",
       "      <th>3</th>\n",
       "      <td>3</td>\n",
       "      <td>11640</td>\n",
       "      <td>Отвратительное отношение к клиентам.</td>\n",
       "      <td>[0, 1, 0, 0, 0]</td>\n",
       "      <td>[0, 0, 0, 0, 0]</td>\n",
       "      <td>[0, 0, 1]</td>\n",
       "    </tr>\n",
       "    <tr>\n",
       "      <th>4</th>\n",
       "      <td>4</td>\n",
       "      <td>5571</td>\n",
       "      <td>Всегда в любое время дня и ночи помогут, ответ...</td>\n",
       "      <td>[0, 1, 0, 0, 0]</td>\n",
       "      <td>[0, 0, 0, 0, 0]</td>\n",
       "      <td>[1, 0, 0]</td>\n",
       "    </tr>\n",
       "    <tr>\n",
       "      <th>...</th>\n",
       "      <td>...</td>\n",
       "      <td>...</td>\n",
       "      <td>...</td>\n",
       "      <td>...</td>\n",
       "      <td>...</td>\n",
       "      <td>...</td>\n",
       "    </tr>\n",
       "    <tr>\n",
       "      <th>19356</th>\n",
       "      <td>19356</td>\n",
       "      <td>8004</td>\n",
       "      <td>Никогда и ни в коем случае не открывайте счет ...</td>\n",
       "      <td>[0, 1, 0, 0, 0]</td>\n",
       "      <td>[0, 0, 0, 0, 0]</td>\n",
       "      <td>[0, 0, 1]</td>\n",
       "    </tr>\n",
       "    <tr>\n",
       "      <th>19357</th>\n",
       "      <td>19357</td>\n",
       "      <td>18182</td>\n",
       "      <td>ТИ откровенно забили на качество и развивают с...</td>\n",
       "      <td>[0, 0, 0, 1, 0]</td>\n",
       "      <td>[0, 0, 0, 0, 0]</td>\n",
       "      <td>[0, 0, 1]</td>\n",
       "    </tr>\n",
       "    <tr>\n",
       "      <th>19358</th>\n",
       "      <td>19358</td>\n",
       "      <td>744</td>\n",
       "      <td>Я считаю, это прорыв и лидерство финансовых ус...</td>\n",
       "      <td>[1, 0, 0, 0, 0]</td>\n",
       "      <td>[0, 0, 0, 0, 0]</td>\n",
       "      <td>[1, 0, 0]</td>\n",
       "    </tr>\n",
       "    <tr>\n",
       "      <th>19359</th>\n",
       "      <td>19359</td>\n",
       "      <td>6220</td>\n",
       "      <td>Писал мужчина очень доходчиво, не финансовым я...</td>\n",
       "      <td>[0, 1, 0, 0, 0]</td>\n",
       "      <td>[0, 0, 0, 0, 0]</td>\n",
       "      <td>[1, 0, 0]</td>\n",
       "    </tr>\n",
       "    <tr>\n",
       "      <th>19360</th>\n",
       "      <td>19360</td>\n",
       "      <td>8433</td>\n",
       "      <td>Данная ситуация меня сильно выбила из колеи, и...</td>\n",
       "      <td>[0, 1, 0, 0, 0]</td>\n",
       "      <td>[0, 0, 0, 0, 0]</td>\n",
       "      <td>[0, 0, 1]</td>\n",
       "    </tr>\n",
       "  </tbody>\n",
       "</table>\n",
       "<p>19361 rows × 6 columns</p>\n",
       "</div>"
      ],
      "text/plain": [
       "       Unnamed: 0  Unnamed: 0.1  ...        2category  sentiment\n",
       "0               0          4754  ...  [0, 0, 0, 0, 0]  [1, 0, 0]\n",
       "1               1          4417  ...  [0, 0, 0, 0, 0]  [0, 0, 1]\n",
       "2               2          3629  ...  [0, 0, 0, 0, 0]  [0, 0, 1]\n",
       "3               3         11640  ...  [0, 0, 0, 0, 0]  [0, 0, 1]\n",
       "4               4          5571  ...  [0, 0, 0, 0, 0]  [1, 0, 0]\n",
       "...           ...           ...  ...              ...        ...\n",
       "19356       19356          8004  ...  [0, 0, 0, 0, 0]  [0, 0, 1]\n",
       "19357       19357         18182  ...  [0, 0, 0, 0, 0]  [0, 0, 1]\n",
       "19358       19358           744  ...  [0, 0, 0, 0, 0]  [1, 0, 0]\n",
       "19359       19359          6220  ...  [0, 0, 0, 0, 0]  [1, 0, 0]\n",
       "19360       19360          8433  ...  [0, 0, 0, 0, 0]  [0, 0, 1]\n",
       "\n",
       "[19361 rows x 6 columns]"
      ]
     },
     "execution_count": 1003,
     "metadata": {},
     "output_type": "execute_result"
    }
   ],
   "source": [
    "#!g1.1\n",
    "train_df"
   ]
  },
  {
   "cell_type": "code",
   "execution_count": 1004,
   "id": "5f846622",
   "metadata": {
    "cellId": "wqwlhc2kuf4vd6xnd71oi"
   },
   "outputs": [],
   "source": [
    "#!g1.1\n",
    "# indexes = np.arange(train_df.shape[0])\n",
    "# np.random.shuffle(indexes)\n",
    "# train_size = math.ceil(train_df.shape[0] * 0.8)\n",
    "\n",
    "# train_indexes = indexes[:train_size]\n",
    "# test_indexes = indexes[train_size:]\n",
    "\n",
    "# train_data = train_df.iloc[train_indexes]\n",
    "# test_data = train_df.iloc[test_indexes]\n",
    "\n",
    "# train_data.reset_index(drop=True, inplace=True)\n",
    "# test_data.reset_index(drop=True, inplace=True)\n",
    "\n",
    "\n",
    "indexes = np.arange(train_df.shape[0])\n",
    "np.random.shuffle(indexes)\n",
    "train_size = math.ceil(train_df.shape[0] * 0.8)\n",
    "\n",
    "data = train_df.iloc[indexes]\n",
    "\n",
    "train_data = train_df.iloc[indexes].iloc[:train_size, :]\n",
    "test_data = train_df.iloc[indexes].iloc[train_size:, :]"
   ]
  },
  {
   "cell_type": "code",
   "execution_count": 1005,
   "id": "0664a1db",
   "metadata": {
    "cellId": "3a3x8vj50aink0iiuxuxh"
   },
   "outputs": [
    {
     "data": {
      "text/plain": [
       "15489"
      ]
     },
     "execution_count": 1005,
     "metadata": {},
     "output_type": "execute_result"
    }
   ],
   "source": [
    "#!g1.1\n",
    "len(train_data)"
   ]
  },
  {
   "cell_type": "code",
   "execution_count": 1006,
   "id": "b4c5f538",
   "metadata": {
    "cellId": "m4ktvcl025dbjar0qunnx8"
   },
   "outputs": [],
   "source": [
    "#!g1.1\n",
    "train_data = train_data.merge(dop_df, how='outer')\n",
    "train_data['is_syntetic'] = train_data['is_syntetic'].fillna(0)\n",
    "\n",
    "indexes = np.arange(train_data.shape[0])\n",
    "np.random.shuffle(indexes)\n",
    "\n",
    "train_data = train_data.iloc[indexes]\n"
   ]
  },
  {
   "cell_type": "code",
   "execution_count": 1008,
   "id": "3e78fbe7",
   "metadata": {
    "cellId": "qga2kldewrksj1za50xgi"
   },
   "outputs": [],
   "source": [
    "#!g1.1\n",
    "# len(train_data)"
   ]
  },
  {
   "cell_type": "code",
   "execution_count": 1009,
   "id": "5ab1b427",
   "metadata": {
    "cellId": "mlbsdz52hltrjj3i5pcl7"
   },
   "outputs": [],
   "source": [
    "#!g1.1\n",
    "MAX_LENGTH = 200\n",
    "def preprocess_function(examples):\n",
    "    result = tokenizer(\n",
    "        examples,\n",
    "        padding='max_length', max_length=MAX_LENGTH, truncation=True\n",
    "    )\n",
    "#     result['target'] = examples['target']\n",
    "    return result"
   ]
  },
  {
   "cell_type": "code",
   "execution_count": 1024,
   "id": "31d707ea",
   "metadata": {
    "cellId": "0a0ym8ztqhvcisui5uoyvad"
   },
   "outputs": [],
   "source": [
    "#!g1.1\n",
    "from torch.utils.data import Dataset, random_split\n",
    "\n",
    "\n",
    "class Dataset(Dataset):\n",
    "    def __init__(self, data: pd.DataFrame, feature_column: str, target_columns: list, tokenizer):  \n",
    "        self.data = data\n",
    "        self.tokenizer = tokenizer\n",
    "\n",
    "        self.feature_column = feature_column\n",
    "        self.target_columns = target_columns\n",
    "        self.label2list = lambda x: [int(i) for i in json.loads(x)]\n",
    "#         if dop_features is None:\n",
    "#             self.dop_features = []\n",
    "#         else:\n",
    "#             self.dop_features = dop_features\n",
    "        \n",
    "\n",
    "    def __getitem__(self, item):\n",
    "        indx_tokens = preprocess_function(self.data[self.feature_column].iloc[item])\n",
    "        d = {}\n",
    "        for label in self.target_columns:\n",
    "            d[f'target_{label}'] = self.label2list(self.data[label].iloc[item])\n",
    "            \n",
    "        return {**indx_tokens, **d}\n",
    "\n",
    "    def get_tokens_(self, text):\n",
    "          return self.tokenizer(text)\n",
    "\n",
    "    def __len__(self):\n",
    "        return self.data.shape[0]\n",
    "    \n",
    "    "
   ]
  },
  {
   "cell_type": "code",
   "execution_count": 1025,
   "id": "617970d1",
   "metadata": {
    "cellId": "42bvkkbj8fx47pj56zqozx"
   },
   "outputs": [
    {
     "data": {
      "text/html": [
       "<div>\n",
       "<style scoped>\n",
       "    .dataframe tbody tr th:only-of-type {\n",
       "        vertical-align: middle;\n",
       "    }\n",
       "\n",
       "    .dataframe tbody tr th {\n",
       "        vertical-align: top;\n",
       "    }\n",
       "\n",
       "    .dataframe thead th {\n",
       "        text-align: right;\n",
       "    }\n",
       "</style>\n",
       "<table border=\"1\" class=\"dataframe\">\n",
       "  <thead>\n",
       "    <tr style=\"text-align: right;\">\n",
       "      <th></th>\n",
       "      <th>Unnamed: 0</th>\n",
       "      <th>Unnamed: 0.1</th>\n",
       "      <th>sentence</th>\n",
       "      <th>1category</th>\n",
       "      <th>2category</th>\n",
       "      <th>sentiment</th>\n",
       "    </tr>\n",
       "  </thead>\n",
       "  <tbody>\n",
       "    <tr>\n",
       "      <th>0</th>\n",
       "      <td>0</td>\n",
       "      <td>4754</td>\n",
       "      <td>При этом всегда получал качественные услуги.</td>\n",
       "      <td>[0, 1, 0, 0, 0]</td>\n",
       "      <td>[0, 0, 0, 0, 0]</td>\n",
       "      <td>[1, 0, 0]</td>\n",
       "    </tr>\n",
       "    <tr>\n",
       "      <th>1</th>\n",
       "      <td>1</td>\n",
       "      <td>4417</td>\n",
       "      <td>Не вижу, за что хотя бы 2 поставить, сервис на 1!</td>\n",
       "      <td>[1, 0, 0, 0, 0]</td>\n",
       "      <td>[0, 0, 0, 0, 0]</td>\n",
       "      <td>[0, 0, 1]</td>\n",
       "    </tr>\n",
       "    <tr>\n",
       "      <th>2</th>\n",
       "      <td>2</td>\n",
       "      <td>3629</td>\n",
       "      <td>Вот так \"Мой любимый\" банк МКБ меня обманул.</td>\n",
       "      <td>[1, 0, 0, 0, 0]</td>\n",
       "      <td>[0, 0, 0, 0, 0]</td>\n",
       "      <td>[0, 0, 1]</td>\n",
       "    </tr>\n",
       "    <tr>\n",
       "      <th>3</th>\n",
       "      <td>3</td>\n",
       "      <td>11640</td>\n",
       "      <td>Отвратительное отношение к клиентам.</td>\n",
       "      <td>[0, 1, 0, 0, 0]</td>\n",
       "      <td>[0, 0, 0, 0, 0]</td>\n",
       "      <td>[0, 0, 1]</td>\n",
       "    </tr>\n",
       "    <tr>\n",
       "      <th>4</th>\n",
       "      <td>4</td>\n",
       "      <td>5571</td>\n",
       "      <td>Всегда в любое время дня и ночи помогут, ответ...</td>\n",
       "      <td>[0, 1, 0, 0, 0]</td>\n",
       "      <td>[0, 0, 0, 0, 0]</td>\n",
       "      <td>[1, 0, 0]</td>\n",
       "    </tr>\n",
       "    <tr>\n",
       "      <th>...</th>\n",
       "      <td>...</td>\n",
       "      <td>...</td>\n",
       "      <td>...</td>\n",
       "      <td>...</td>\n",
       "      <td>...</td>\n",
       "      <td>...</td>\n",
       "    </tr>\n",
       "    <tr>\n",
       "      <th>19356</th>\n",
       "      <td>19356</td>\n",
       "      <td>8004</td>\n",
       "      <td>Никогда и ни в коем случае не открывайте счет ...</td>\n",
       "      <td>[0, 1, 0, 0, 0]</td>\n",
       "      <td>[0, 0, 0, 0, 0]</td>\n",
       "      <td>[0, 0, 1]</td>\n",
       "    </tr>\n",
       "    <tr>\n",
       "      <th>19357</th>\n",
       "      <td>19357</td>\n",
       "      <td>18182</td>\n",
       "      <td>ТИ откровенно забили на качество и развивают с...</td>\n",
       "      <td>[0, 0, 0, 1, 0]</td>\n",
       "      <td>[0, 0, 0, 0, 0]</td>\n",
       "      <td>[0, 0, 1]</td>\n",
       "    </tr>\n",
       "    <tr>\n",
       "      <th>19358</th>\n",
       "      <td>19358</td>\n",
       "      <td>744</td>\n",
       "      <td>Я считаю, это прорыв и лидерство финансовых ус...</td>\n",
       "      <td>[1, 0, 0, 0, 0]</td>\n",
       "      <td>[0, 0, 0, 0, 0]</td>\n",
       "      <td>[1, 0, 0]</td>\n",
       "    </tr>\n",
       "    <tr>\n",
       "      <th>19359</th>\n",
       "      <td>19359</td>\n",
       "      <td>6220</td>\n",
       "      <td>Писал мужчина очень доходчиво, не финансовым я...</td>\n",
       "      <td>[0, 1, 0, 0, 0]</td>\n",
       "      <td>[0, 0, 0, 0, 0]</td>\n",
       "      <td>[1, 0, 0]</td>\n",
       "    </tr>\n",
       "    <tr>\n",
       "      <th>19360</th>\n",
       "      <td>19360</td>\n",
       "      <td>8433</td>\n",
       "      <td>Данная ситуация меня сильно выбила из колеи, и...</td>\n",
       "      <td>[0, 1, 0, 0, 0]</td>\n",
       "      <td>[0, 0, 0, 0, 0]</td>\n",
       "      <td>[0, 0, 1]</td>\n",
       "    </tr>\n",
       "  </tbody>\n",
       "</table>\n",
       "<p>19361 rows × 6 columns</p>\n",
       "</div>"
      ],
      "text/plain": [
       "       Unnamed: 0  Unnamed: 0.1  ...        2category  sentiment\n",
       "0               0          4754  ...  [0, 0, 0, 0, 0]  [1, 0, 0]\n",
       "1               1          4417  ...  [0, 0, 0, 0, 0]  [0, 0, 1]\n",
       "2               2          3629  ...  [0, 0, 0, 0, 0]  [0, 0, 1]\n",
       "3               3         11640  ...  [0, 0, 0, 0, 0]  [0, 0, 1]\n",
       "4               4          5571  ...  [0, 0, 0, 0, 0]  [1, 0, 0]\n",
       "...           ...           ...  ...              ...        ...\n",
       "19356       19356          8004  ...  [0, 0, 0, 0, 0]  [0, 0, 1]\n",
       "19357       19357         18182  ...  [0, 0, 0, 0, 0]  [0, 0, 1]\n",
       "19358       19358           744  ...  [0, 0, 0, 0, 0]  [1, 0, 0]\n",
       "19359       19359          6220  ...  [0, 0, 0, 0, 0]  [1, 0, 0]\n",
       "19360       19360          8433  ...  [0, 0, 0, 0, 0]  [0, 0, 1]\n",
       "\n",
       "[19361 rows x 6 columns]"
      ]
     },
     "execution_count": 1025,
     "metadata": {},
     "output_type": "execute_result"
    }
   ],
   "source": [
    "#!g1.1\n",
    "train_df"
   ]
  },
  {
   "cell_type": "code",
   "execution_count": 1026,
   "id": "81a9ea3e",
   "metadata": {
    "cellId": "604b78qb7vmd5ry63os8dn"
   },
   "outputs": [],
   "source": [
    "#!g1.1\n",
    "train_dataset = Dataset(train_data, 'sentence', ['1category', '2category', 'sentiment'], tokenizer)\n",
    "\n",
    "test_dataset = Dataset(test_data, 'sentence', ['1category', '2category', 'sentiment'], tokenizer)"
   ]
  },
  {
   "cell_type": "code",
   "execution_count": 1027,
   "id": "0e1daefa",
   "metadata": {
    "cellId": "mw9252evmkfch53iypnn2k"
   },
   "outputs": [],
   "source": [
    "#!g1.1\n",
    "example = train_dataset[0]"
   ]
  },
  {
   "cell_type": "code",
   "execution_count": 181,
   "id": "c8a7c4de",
   "metadata": {
    "cellId": "r7lm6i137sv1d8l54a7ir"
   },
   "outputs": [],
   "source": [
    "#!g1.1\n",
    "# tokenizer.decode(example['input_ids'])"
   ]
  },
  {
   "cell_type": "code",
   "execution_count": null,
   "id": "fcf8eb43",
   "metadata": {
    "cellId": "l114rud2quwlaxt1sm6wc"
   },
   "outputs": [],
   "source": [
    "#!g1.1\n"
   ]
  },
  {
   "cell_type": "code",
   "execution_count": 92,
   "id": "da7106c2",
   "metadata": {
    "cellId": "6gt8va8g32w14czuoh4lord"
   },
   "outputs": [
    {
     "data": {
      "text/plain": [
       "0"
      ]
     },
     "execution_count": 92,
     "metadata": {},
     "output_type": "execute_result"
    }
   ],
   "source": [
    "#!g1.1\n"
   ]
  },
  {
   "cell_type": "code",
   "execution_count": 99,
   "id": "39651cd7",
   "metadata": {
    "cellId": "5ygm6d5oixklq9aoraiqvk"
   },
   "outputs": [],
   "source": []
  },
  {
   "cell_type": "code",
   "execution_count": 107,
   "id": "9b99cf9a",
   "metadata": {
    "cellId": "9b8yojfk3rjzw952th3c9"
   },
   "outputs": [],
   "source": []
  },
  {
   "cell_type": "code",
   "execution_count": 1028,
   "id": "11c10237",
   "metadata": {
    "cellId": "k76d6nl292401u5jjfy4e"
   },
   "outputs": [],
   "source": [
    "#!g1.1\n",
    "from torch.utils.data import DataLoader\n",
    "\n",
    "\n",
    "batch_size = 32\n",
    "num_workers = 8\n",
    "\n",
    "def average_emb(batch):\n",
    "    features = [b[\"tokens\"] for b in batch]\n",
    "    targets = [b[\"target\"] for b in batch]\n",
    "\n",
    "    return {\"tokens\": features, \"targets\": torch.LongTensor(targets)}\n",
    "\n",
    "\n",
    "# train_size = math.ceil(len(dataset) * 0.8)\n",
    "\n",
    "# train, valid = random_split(dataset, [train_size, len(train_data) - train_size])\n",
    "# train, valid = random_split(dataset, [train_size, len(dataset) - train_size])\n",
    "\n",
    "train_loader = DataLoader(train_dataset, batch_size=batch_size, num_workers=num_workers, shuffle=True, drop_last=True, collate_fn=transformers.default_data_collator)\n",
    "valid_loader = DataLoader(test_dataset, batch_size=batch_size, num_workers=num_workers, shuffle=False, drop_last=False, collate_fn=transformers.default_data_collator)"
   ]
  },
  {
   "cell_type": "code",
   "execution_count": 1030,
   "id": "b945d674",
   "metadata": {
    "cellId": "jt4je638agbtlclo8ttvj"
   },
   "outputs": [],
   "source": [
    "#!g1.1\n",
    "# batch = next(iter(valid_loader))"
   ]
  },
  {
   "cell_type": "code",
   "execution_count": 1032,
   "id": "5b4c7299",
   "metadata": {
    "cellId": "p8o6yi3muiowsi84by351"
   },
   "outputs": [],
   "source": [
    "#!g1.1\n",
    "# batch"
   ]
  },
  {
   "cell_type": "code",
   "execution_count": 1033,
   "id": "ced9696a",
   "metadata": {
    "cellId": "msge18j354rpwp7y6jbgsd"
   },
   "outputs": [],
   "source": [
    "#!g1.1\n",
    "# model(batch['input_ids'], batch['attention_mask'])"
   ]
  },
  {
   "cell_type": "code",
   "execution_count": 1040,
   "id": "9d202722",
   "metadata": {
    "cellId": "wmy5skij2jp7t9xj8jtvp2"
   },
   "outputs": [],
   "source": [
    "#!g1.1\n",
    "device = 'cuda'"
   ]
  },
  {
   "cell_type": "code",
   "execution_count": 1041,
   "id": "bce27e22",
   "metadata": {
    "cellId": "uzv81u85e6nltt7e48ljxh"
   },
   "outputs": [],
   "source": [
    "#!g1.1\n",
    "newmodel = copy.deepcopy(base_model)\n",
    "newmodel = torch.nn.Sequential(*(list(newmodel.children())[:-1]))[0]"
   ]
  },
  {
   "cell_type": "code",
   "execution_count": 1042,
   "id": "c71e1f82",
   "metadata": {
    "cellId": "vxowt02lgchu03234w56n9"
   },
   "outputs": [],
   "source": [
    "#!g1.1\n",
    "# outp = newmodel(batch['input_ids'], batch['attention_mask'])"
   ]
  },
  {
   "cell_type": "code",
   "execution_count": 1043,
   "id": "d06dd276",
   "metadata": {
    "cellId": "74zvmn81tvuupe5aatkee8"
   },
   "outputs": [],
   "source": [
    "#!g1.1\n",
    "# outp.pooler_output.shape"
   ]
  },
  {
   "cell_type": "code",
   "execution_count": 1044,
   "id": "62271ddc",
   "metadata": {
    "cellId": "rseu4nzvpzr71mlrwmiw"
   },
   "outputs": [
    {
     "data": {
      "text/plain": [
       "0"
      ]
     },
     "execution_count": 1044,
     "metadata": {},
     "output_type": "execute_result"
    }
   ],
   "source": [
    "#!g1.1\n",
    "s = 0\n",
    "for layer in base_model.parameters():\n",
    "    s += layer.requires_grad\n",
    "    layer.requires_grad = False\n",
    "s"
   ]
  },
  {
   "cell_type": "code",
   "execution_count": 1045,
   "id": "ec9ca22e",
   "metadata": {
    "cellId": "j7yw69bx4q8dxdbk7bb5di"
   },
   "outputs": [],
   "source": [
    "#!g1.1\n",
    "_ = base_model.to(device)"
   ]
  },
  {
   "cell_type": "code",
   "execution_count": 1046,
   "id": "63df5215",
   "metadata": {
    "cellId": "h52nxu5hdbksfx2pb4zb2b"
   },
   "outputs": [],
   "source": [
    "#!g1.1\n",
    "def freeze_layers(model, num_to_freeze=0):\n",
    "    \n",
    "    for layer in list(model.parameters())[:-num_to_freeze]:\n",
    "        layer.requires_grad = False\n",
    "#         print(layer.requires_grad)\n",
    "    return model\n",
    "        "
   ]
  },
  {
   "cell_type": "code",
   "execution_count": 1047,
   "id": "0bbab73f",
   "metadata": {
    "cellId": "p8kpzjyji7fgdaawr35705"
   },
   "outputs": [],
   "source": [
    "#!g1.1\n",
    "\n",
    "\n",
    "class Cls_head(nn.Module):\n",
    "    \n",
    "    def __init__(self, last_layer_dim=1024, hidden_layer_size=512, out_size=1):\n",
    "        super().__init__()\n",
    "        self.last_layer_dim = last_layer_dim\n",
    "        self.hidden_layer_size = hidden_layer_size,\n",
    "        self.out_size = out_size\n",
    "        \n",
    "        self.hidden_layer_1 = nn.Linear(last_layer_dim, hidden_layer_size)\n",
    "        self.relu1 = nn.ReLU(inplace=True)\n",
    "        self.bn_1 = nn.BatchNorm1d(hidden_layer_size)\n",
    "        \n",
    "        self.hidden_layer_2 = nn.Linear(hidden_layer_size, hidden_layer_size)\n",
    "        self.relu2 = nn.ReLU(inplace=True)\n",
    "#         self.bn_2 = nn.BatchNorm1d(hidden_layer_size)\n",
    "        self.dropout2 = nn.Dropout(p=0.3)\n",
    "        \n",
    "        \n",
    "        self.hidden_layer_3 = nn.Linear(hidden_layer_size, hidden_layer_size // 4)\n",
    "        self.relu3 = nn.ReLU(inplace=True)\n",
    "        self.bn_3 = nn.BatchNorm1d(hidden_layer_size // 4)\n",
    "        \n",
    "        self.cls = nn.Linear(hidden_layer_size // 4, out_size)\n",
    "        \n",
    "        \n",
    "        \n",
    "    def forward(self, x):\n",
    "        \n",
    "        out = self.bn_1(self.relu1(self.hidden_layer_1(x)))\n",
    "#         out = self.bn_2(self.relu2(self.hidden_layer_2(out)))\n",
    "        out = self.dropout2(self.relu2(self.hidden_layer_2(out)))\n",
    "        out = self.bn_3(self.relu3(self.hidden_layer_3(out)))\n",
    "        out = self.cls(out)\n",
    "        \n",
    "        return out\n",
    "        \n",
    "\n",
    "class FBERTAcls(nn.Module):\n",
    "\n",
    "    def __init__(self, model, last_layer_dim=768, hidden_layer_size=256):\n",
    "        super().__init__()\n",
    "        \n",
    "        \n",
    "        self.BERT = freeze_layers(model, 20)\n",
    "        \n",
    "        self.cls_head_1 = Cls_head(last_layer_dim=last_layer_dim, hidden_layer_size=hidden_layer_size, out_size=3)\n",
    "        self.cls_head_2 = Cls_head(last_layer_dim=last_layer_dim, hidden_layer_size=hidden_layer_size, out_size=5)\n",
    "        \n",
    "        \n",
    "        \n",
    "\n",
    "    def forward(self, input_ids, attention_mask, token_type_ids=None):\n",
    "        bert_output = self.BERT(input_ids=input_ids, attention_mask=attention_mask)\n",
    "#         hidden_out = self.hidden_layer_1(bert_output.last_hidden_state[:, 0, :])\n",
    "\n",
    "#         print(bert_output.shape)\n",
    "\n",
    "        bert_output = bert_output.pooler_output\n",
    "#         print(bert_output.shape)\n",
    "#         print(bert_output.sum())\n",
    "        sent_logits = self.cls_head_1(bert_output) \n",
    "        \n",
    "        cat_1_logits = self.cls_head_2(bert_output)\n",
    "\n",
    "        return sent_logits, cat_1_logits\n",
    "\n",
    "\n"
   ]
  },
  {
   "cell_type": "code",
   "execution_count": 1048,
   "id": "7f9600bb",
   "metadata": {
    "cellId": "prup7f2yetnyhab5jihvl"
   },
   "outputs": [],
   "source": [
    "#!g1.1\n",
    "model = FBERTAcls(newmodel, last_layer_dim=312, hidden_layer_size=1024).cpu()"
   ]
  },
  {
   "cell_type": "code",
   "execution_count": 1049,
   "id": "559a4461",
   "metadata": {
    "cellId": "shq5vip25jibgey2p6b0n7"
   },
   "outputs": [
    {
     "name": "stdout",
     "output_type": "stream",
     "text": [
      "False\n",
      "False\n",
      "False\n",
      "False\n",
      "False\n",
      "False\n",
      "False\n",
      "False\n",
      "False\n",
      "False\n",
      "False\n",
      "False\n",
      "False\n",
      "False\n",
      "False\n",
      "False\n",
      "False\n",
      "False\n",
      "False\n",
      "False\n",
      "False\n",
      "False\n",
      "False\n",
      "False\n",
      "False\n",
      "False\n",
      "False\n",
      "False\n",
      "False\n",
      "False\n",
      "False\n",
      "False\n",
      "False\n",
      "False\n",
      "False\n",
      "False\n",
      "False\n",
      "False\n",
      "False\n",
      "False\n",
      "False\n",
      "False\n",
      "False\n",
      "False\n",
      "False\n",
      "False\n",
      "False\n",
      "False\n",
      "False\n",
      "False\n",
      "False\n",
      "False\n",
      "False\n",
      "False\n",
      "False\n",
      "True\n",
      "True\n",
      "True\n",
      "True\n",
      "True\n",
      "True\n",
      "True\n",
      "True\n",
      "True\n",
      "True\n",
      "True\n",
      "True\n",
      "True\n",
      "True\n",
      "True\n",
      "True\n",
      "True\n",
      "True\n",
      "True\n",
      "True\n",
      "True\n",
      "True\n",
      "True\n",
      "True\n"
     ]
    },
    {
     "data": {
      "text/plain": [
       "24"
      ]
     },
     "execution_count": 1049,
     "metadata": {},
     "output_type": "execute_result"
    }
   ],
   "source": [
    "#!g1.1\n",
    "s = 0\n",
    "num_of_freezed_layer = 0\n",
    "for layer in model.parameters():\n",
    "    print(layer.requires_grad)\n",
    "    s += layer.requires_grad\n",
    "    if not layer.requires_grad:\n",
    "        num_of_freezed_layer += 1\n",
    "    \n",
    "s"
   ]
  },
  {
   "cell_type": "code",
   "execution_count": 1050,
   "id": "8dcf5ba3",
   "metadata": {
    "cellId": "yo8eu2cjk4n238odorv4j"
   },
   "outputs": [],
   "source": [
    "#!g1.1\n",
    "# model.eval()\n",
    "# model(batch['input_ids'], batch['attention_mask'])"
   ]
  },
  {
   "cell_type": "code",
   "execution_count": 1051,
   "id": "d2285e30",
   "metadata": {
    "cellId": "xd0ifyobg8ibql98lkhkm"
   },
   "outputs": [
    {
     "data": {
      "text/plain": [
       "55"
      ]
     },
     "execution_count": 1051,
     "metadata": {},
     "output_type": "execute_result"
    }
   ],
   "source": [
    "#!g1.1\n",
    "num_of_freezed_layer"
   ]
  },
  {
   "cell_type": "code",
   "execution_count": 1052,
   "id": "9e015ec9",
   "metadata": {
    "cellId": "dwsbrgxo7bsslhq62qdyy"
   },
   "outputs": [],
   "source": [
    "#!g1.1\n",
    "num_diff_layers = len(list(model.parameters())) - len(list(newmodel.parameters()))"
   ]
  },
  {
   "cell_type": "code",
   "execution_count": 1053,
   "id": "d2232899",
   "metadata": {
    "cellId": "jwswknvz7lh7tasv98gdo"
   },
   "outputs": [],
   "source": [
    "#!g1.1\n",
    "device = 'cuda'"
   ]
  },
  {
   "cell_type": "code",
   "execution_count": 1055,
   "id": "56e25e61",
   "metadata": {
    "cellId": "aief3lhet5c0rws46okdpvh"
   },
   "outputs": [],
   "source": [
    "#!g1.1\n",
    "# batch = next(iter(train_loader))\n",
    "# list(batch.keys())"
   ]
  },
  {
   "cell_type": "code",
   "execution_count": 907,
   "id": "197a8dc9",
   "metadata": {
    "cellId": "ko9u6dvdtag0ot4f8xuo6vf"
   },
   "outputs": [],
   "source": [
    "#!g1.1\n",
    "# model(batch['input_ids'], batch['attention_mask'])"
   ]
  },
  {
   "cell_type": "code",
   "execution_count": 1056,
   "id": "e5311dd5",
   "metadata": {
    "cellId": "z92o2vzjhphtjqbxzq98sg"
   },
   "outputs": [],
   "source": [
    "#!g1.1\n",
    "#!g1.1\n",
    "\n",
    "def models_loss(model1, model2):\n",
    "    \n",
    "    l1_loss = nn.L1Loss()\n",
    "    \n",
    "    m1_params = list(model1.parameters())\n",
    "    m2_params = list(model2.parameters())\n",
    "    \n",
    "    loss = torch.tensor(0, dtype=torch.float32, requires_grad=True).to(device)\n",
    "    \n",
    "    for i, layer in enumerate(m1_params[:-num_diff_layers]):\n",
    "        if layer.requires_grad:\n",
    "            loss += l1_loss(layer.data, m2_params[i].data.detach())\n",
    "#             print(layer.requires_grad)\n",
    "            \n",
    "    return loss\n",
    "\n",
    "\n",
    "def compute_loss(logits_sent, logits_1cat, targets_sent, targets_1cat, model1=None, model2=None):\n",
    "    ce_loss = nn.CrossEntropyLoss()\n",
    "    \n",
    "    if model1 is None:\n",
    "        loss = ce_loss(logits_sent, targets_sent) + 0.5 * ce_loss(logits_1cat, targets_1cat)\n",
    "        return loss\n",
    "    \n",
    "    loss = ce_loss(logits_sent, targets_sent) + 0.5 * ce_loss(logits_1cat, targets_1cat) + 0.5 * models_loss(model1, model2)\n",
    "    \n",
    "    return loss\n",
    "    \n",
    "    "
   ]
  },
  {
   "cell_type": "code",
   "execution_count": 1057,
   "id": "3ec96ace",
   "metadata": {
    "cellId": "j0rb82g88yifoekop13wwh"
   },
   "outputs": [],
   "source": [
    "#!g1.1\n",
    "from tqdm.notebook import tqdm\n",
    "\n",
    "# ['input_ids',\n",
    "#  'token_type_ids',\n",
    "#  'attention_mask',\n",
    "#  'target_1category',\n",
    "#  'target_2category',\n",
    "#  'target_sentiment']\n",
    "\n",
    "\n",
    "def training(model, optimizer, criterion, train_loader, epoch, device=\"cpu\", scheduler=None):\n",
    "    pbar = tqdm(train_loader, desc=f\"Epoch {epoch + 1}. Train Loss: {0}\")\n",
    "    \n",
    "    model.train()\n",
    "    \n",
    "    total_loss = 0\n",
    "    steps = 0\n",
    "    \n",
    "    count = 0\n",
    "    for batch in pbar:\n",
    "        optimizer.zero_grad()\n",
    "        \n",
    "        features = batch[\"input_ids\"].to(device)\n",
    "        attn_mask = batch['attention_mask'].to(device)\n",
    "        \n",
    "        targets_sent = torch.argmax(batch[\"target_sentiment\"].to(device), dim=-1)\n",
    "        targets_1cat = torch.argmax(batch[\"target_1category\"].to(device), dim=-1)\n",
    "\n",
    "        sent_logits, cat_logits = model(features, attn_mask)\n",
    "#         print(sent_logits)\n",
    "        \n",
    "        loss = compute_loss(sent_logits, cat_logits, targets_sent, targets_1cat, model, base_model)\n",
    "        \n",
    "        loss.backward()\n",
    "\n",
    "        optimizer.step()\n",
    "        \n",
    "        if scheduler is not None:\n",
    "            scheduler.step()\n",
    "        \n",
    "        total_loss += loss.detach().cpu()\n",
    "        \n",
    "        pbar.set_description(f\"Epoch {epoch + 1}. Train Loss: {loss.detach().cpu():.4}\")\n",
    "        steps += 1\n",
    "        \n",
    "    return total_loss.item() / steps\n"
   ]
  },
  {
   "cell_type": "code",
   "execution_count": 1058,
   "id": "e4ed8b24",
   "metadata": {
    "cellId": "n8l943vlw88uawdn7ykg4"
   },
   "outputs": [],
   "source": [
    "#!g1.1\n",
    "def testing(model, criterion, test_loader, threshold=0.5, device=\"cpu\"):\n",
    "    pbar = tqdm(test_loader, desc=f\"Test Loss: {0}, Test Acc: {0}\")\n",
    "    mean_loss = 0\n",
    "    mean_acc = 0\n",
    "    model.eval()\n",
    "    \n",
    "    \n",
    "    all_probs_sent = []\n",
    "    all_probs_1cat = []\n",
    "    \n",
    "    target_labels_sent = []\n",
    "    target_labels_sent_1cat = []\n",
    "    \n",
    "    with torch.no_grad():\n",
    "        for batch in pbar:\n",
    "            \n",
    "            features = batch[\"input_ids\"].to(device)\n",
    "            attn_mask = batch['attention_mask'].to(device)\n",
    "        \n",
    "            targets_sent = torch.argmax(batch[\"target_sentiment\"].to(device), dim=-1)\n",
    "            targets_1cat = torch.argmax(batch[\"target_1category\"].to(device), dim=-1)\n",
    "\n",
    "            sent_logits, cat_logits = model(features, attn_mask)\n",
    "#             print(sent_logits)\n",
    "            \n",
    "            target_labels_sent.append(batch[\"target_sentiment\"].cpu().numpy())\n",
    "            target_labels_sent_1cat.append(batch[\"target_1category\"].cpu().numpy())\n",
    "            \n",
    "            all_probs_sent.append(torch.softmax(sent_logits, dim=-1).cpu().numpy())\n",
    "            all_probs_1cat.append(torch.softmax(cat_logits, dim=-1).cpu().numpy())\n",
    "            \n",
    "            loss = compute_loss(sent_logits, cat_logits, targets_sent, targets_1cat)\n",
    "\n",
    "#             predict = probas.cpu() > threshold\n",
    "#             acc = (predict.cpu() == targets.cpu()).sum() / len(targets)\n",
    "\n",
    "            mean_loss += loss.item()\n",
    "#             mean_acc += acc.item()\n",
    "\n",
    "#             pbar.set_description(f\"Test Loss: {loss:.4}, Test Acc: {acc:.4}\")\n",
    "\n",
    "#     pbar.set_description(f\"Test Loss: {mean_loss / len(test_loader):.4}, Test Acc: {mean_acc / len(test_loader):.4}\")\n",
    "    return {'all_probs_sent': all_probs_sent,\n",
    "            'all_probs_1cat': all_probs_1cat, \n",
    "           'target_sent': target_labels_sent,\n",
    "           'target_1cat': target_labels_sent_1cat}\n",
    "#     return {\"Test Loss\": mean_loss / len(test_loader), \"Test Acc\": mean_acc / len(test_loader), 'target_labels': target_labels, 'probs': all_probs}\n"
   ]
  },
  {
   "cell_type": "code",
   "execution_count": 1059,
   "id": "3478c54d",
   "metadata": {
    "cellId": "365yuv1swd97r4npr95mg"
   },
   "outputs": [
    {
     "data": {
      "text/plain": [
       "True"
      ]
     },
     "execution_count": 1059,
     "metadata": {},
     "output_type": "execute_result"
    }
   ],
   "source": [
    "#!g1.1\n",
    "\n",
    "device = 'cuda:0'\n",
    "\n",
    "model = model.to(device)\n",
    "optimizer = torch.optim.Adam(model.parameters(), lr=3e-3)\n",
    "scheduler = torch.optim.lr_scheduler.StepLR(optimizer, step_size=500, gamma=0.5)\n",
    "\n",
    "criterion = nn.BCEWithLogitsLoss()\n",
    "\n",
    "torch.cuda.is_available()\n"
   ]
  },
  {
   "cell_type": "code",
   "execution_count": 1060,
   "id": "14fb7f5a",
   "metadata": {
    "cellId": "s28idusgmaiphgw1nbcws"
   },
   "outputs": [],
   "source": [
    "#!g1.1\n",
    "# batch = next(iter(train_loader))"
   ]
  },
  {
   "cell_type": "code",
   "execution_count": 1061,
   "id": "4a09a00a",
   "metadata": {
    "cellId": "epltmkjgtbbsoya9zmyx"
   },
   "outputs": [
    {
     "name": "stdout",
     "output_type": "stream",
     "text": [
      "[1.3377753224460986]\n"
     ]
    },
    {
     "data": {
      "image/png": "[encoded data removed]",
      "text/plain": [
       "<Figure size 432x288 with 1 Axes>"
      ]
     },
     "metadata": {
      "needs_background": "light"
     },
     "output_type": "display_data"
    },
    {
     "data": {
      "text/html": [
       "<pre style=\"white-space:pre;overflow-x:auto;line-height:normal;font-family:Menlo,'DejaVu Sans Mono',consolas,'Courier New',monospace\"><span style=\"color: #ff0000; text-decoration-color: #ff0000\">╭──────────────────────────── </span><span style=\"color: #800000; text-decoration-color: #800000; font-weight: bold\">Traceback </span><span style=\"color: #bf7f7f; text-decoration-color: #bf7f7f; font-weight: bold\">(most recent call last)</span><span style=\"color: #ff0000; text-decoration-color: #ff0000\"> ────────────────────────────╮</span>\n",
       "<span style=\"color: #ff0000; text-decoration-color: #ff0000\">│</span> <span style=\"color: #808000; text-decoration-color: #808000\">&lt;ipython-input-77-a3ac3237dd00&gt;</span>:<span style=\"color: #0000ff; text-decoration-color: #0000ff\">13</span> in <span style=\"color: #00ff00; text-decoration-color: #00ff00\">&lt;module&gt;</span>                                            <span style=\"color: #ff0000; text-decoration-color: #ff0000\">│</span>\n",
       "<span style=\"color: #ff0000; text-decoration-color: #ff0000\">╰───────────────────────────────────────────────────────────────────────────────────────────╯</span>\n",
       "<span style=\"color: #ff0000; text-decoration-color: #ff0000; font-weight: bold\">NameError: </span>name <span style=\"color: #008000; text-decoration-color: #008000\">'unfreeze_one_layer'</span> is not defined\n",
       "</pre>\n"
      ],
      "text/plain": [
       "\u001b[91m╭─\u001b[0m\u001b[91m─────────────────────────── \u001b[0m\u001b[1;31mTraceback \u001b[0m\u001b[1;2;31m(most recent call last)\u001b[0m\u001b[91m ───────────────────────────\u001b[0m\u001b[91m─╮\u001b[0m\n",
       "\u001b[91m│\u001b[0m \u001b[33m<ipython-input-77-a3ac3237dd00>\u001b[0m:\u001b[94m13\u001b[0m in \u001b[92m<module>\u001b[0m                                            \u001b[91m│\u001b[0m\n",
       "\u001b[91m╰───────────────────────────────────────────────────────────────────────────────────────────╯\u001b[0m\n",
       "\u001b[1;91mNameError: \u001b[0mname \u001b[32m'unfreeze_one_layer'\u001b[0m is not defined\n"
      ]
     },
     "metadata": {},
     "output_type": "display_data"
    }
   ],
   "source": [
    "#!g1.1\n",
    "losses = []\n",
    "print(device)\n",
    "\n",
    "for epoch in range(20):\n",
    "    loss = training(model, optimizer, criterion, train_loader, epoch, device, scheduler=scheduler)\n",
    "    losses.append(loss)\n",
    "    clear_output(wait=True)\n",
    "    print(losses)\n",
    "    plt.plot(list(range(epoch + 1)), losses)\n",
    "    plt.show()\n",
    "    \n",
    "    if epoch % 5 == 0:\n",
    "        unfreeze_one_layer(model, num_of_freezed_layer)\n",
    "        num_of_freezed_layer += 1\n",
    "    "
   ]
  },
  {
   "cell_type": "code",
   "execution_count": 978,
   "id": "4e90429c",
   "metadata": {
    "cellId": "de284nye2lq63goywvlf4i"
   },
   "outputs": [
    {
     "data": {
      "application/vnd.jupyter.widget-view+json": {
       "model_id": "c0e51d553a0e41ccb8c39f8dcdf5fa6b",
       "version_major": 2,
       "version_minor": 0
      },
      "text/plain": [
       "Test Loss: 0, Test Acc: 0:   0%|          | 0/121 [00:00<?, ?it/s]"
      ]
     },
     "metadata": {},
     "output_type": "display_data"
    }
   ],
   "source": [
    "#!g1.1\n",
    "t  = testing(model, criterion, valid_loader, 0.5, device)"
   ]
  },
  {
   "cell_type": "code",
   "execution_count": 979,
   "id": "6e160aae",
   "metadata": {
    "cellId": "5ctsv6y302g8dcybk3qj2s"
   },
   "outputs": [
    {
     "data": {
      "text/plain": [
       "['all_probs_sent', 'all_probs_1cat', 'target_sent', 'target_1cat']"
      ]
     },
     "execution_count": 979,
     "metadata": {},
     "output_type": "execute_result"
    }
   ],
   "source": [
    "#!g1.1\n",
    "list(t.keys())"
   ]
  },
  {
   "cell_type": "code",
   "execution_count": 980,
   "id": "c541e084",
   "metadata": {
    "cellId": "41gyvy1v6as2w2r24958ca"
   },
   "outputs": [],
   "source": [
    "#!g1.1\n",
    "all_probs_sent = np.array(t['all_probs_sent'])\n",
    "all_probs_1cat = np.array(t['all_probs_1cat'])\n",
    "target_sent = np.array(t['target_sent'])\n",
    "target_1cat = np.array(t['target_1cat'])\n",
    "\n"
   ]
  },
  {
   "cell_type": "code",
   "execution_count": 981,
   "id": "27d9c534",
   "metadata": {
    "cellId": "ab9af0msauq365bxb737xg"
   },
   "outputs": [
    {
     "data": {
      "text/plain": [
       "(121, 32, 5)"
      ]
     },
     "execution_count": 981,
     "metadata": {},
     "output_type": "execute_result"
    }
   ],
   "source": [
    "#!g1.1\n",
    "target_1cat.shape"
   ]
  },
  {
   "cell_type": "code",
   "execution_count": 982,
   "id": "615ed9fb",
   "metadata": {
    "cellId": "w2a8y7n0bhfhjjfa8we3qb"
   },
   "outputs": [],
   "source": [
    "#!g1.1\n",
    "\n",
    "target_sent = target_sent.reshape(-1, 1, 3).squeeze()\n",
    "target_1cat = target_1cat.reshape(-1, 1, 5).squeeze()\n",
    "\n",
    "all_probs_1cat = all_probs_1cat.reshape(-1, 1, 5).squeeze()\n",
    "all_probs_sent = all_probs_sent.reshape(-1, 1, 3).squeeze()"
   ]
  },
  {
   "cell_type": "code",
   "execution_count": 983,
   "id": "43bf4641",
   "metadata": {
    "cellId": "qgvhrmcz1wnaf6gubea7"
   },
   "outputs": [
    {
     "data": {
      "text/plain": [
       "(3872, 5)"
      ]
     },
     "execution_count": 983,
     "metadata": {},
     "output_type": "execute_result"
    }
   ],
   "source": [
    "#!g1.1\n",
    "target_1cat.shape"
   ]
  },
  {
   "cell_type": "code",
   "execution_count": 984,
   "id": "f791fb3d",
   "metadata": {
    "cellId": "anp238q26rr87o19261nud"
   },
   "outputs": [
    {
     "name": "stdout",
     "output_type": "stream",
     "text": [
      "+ score: 0.9606576208889988\n",
      "? score: 0.8664687931331954\n",
      "- score 0.9580215831574079\n"
     ]
    }
   ],
   "source": [
    "#!g1.1\n",
    "from sklearn.metrics import roc_auc_score\n",
    "\n",
    "\n",
    "\n",
    "print('+ score:', roc_auc_score(target_sent[:, 0], all_probs_sent[:, 0]))\n",
    "print('? score:', roc_auc_score(target_sent[:, 1], all_probs_sent[:, 1]))\n",
    "print('- score', roc_auc_score(target_sent[:, 2], all_probs_sent[:, 2]))"
   ]
  },
  {
   "cell_type": "code",
   "execution_count": 542,
   "id": "61bfb966",
   "metadata": {
    "cellId": "76v23582ifdgy4o8u1gcl"
   },
   "outputs": [
    {
     "data": {
      "text/plain": [
       "(3872, 3)"
      ]
     },
     "execution_count": 542,
     "metadata": {},
     "output_type": "execute_result"
    }
   ],
   "source": [
    "#!g1.1\n",
    "all_probs_sent.shape"
   ]
  },
  {
   "cell_type": "code",
   "execution_count": 543,
   "id": "9086e33d",
   "metadata": {
    "cellId": "yzez0qs8a85bfofvaz8"
   },
   "outputs": [],
   "source": [
    "#!g1.1"
   ]
  },
  {
   "cell_type": "code",
   "execution_count": 848,
   "id": "9c0a1afd",
   "metadata": {
    "cellId": "8zdvfwqe0krf9huiysawcn"
   },
   "outputs": [],
   "source": [
    "#!g1.1\n",
    "torch.save(model.state_dict(), DATA_PATH + 'model_3.pth')"
   ]
  },
  {
   "cell_type": "code",
   "execution_count": 422,
   "id": "421c0e72",
   "metadata": {
    "cellId": "6w10e5c7qjgvnzfmhtqhd"
   },
   "outputs": [
    {
     "data": {
      "text/plain": [
       "'/home/jupyter/mnt/s3/dataset_hackaton/'"
      ]
     },
     "execution_count": 422,
     "metadata": {},
     "output_type": "execute_result"
    }
   ],
   "source": [
    "#!g1.1\n",
    "DATA_PATH"
   ]
  },
  {
   "cell_type": "code",
   "execution_count": 499,
   "id": "4e5054d9",
   "metadata": {
    "cellId": "vma9cz2npwdnjpxv862ufk"
   },
   "outputs": [
    {
     "data": {
      "text/plain": [
       "[<matplotlib.lines.Line2D at 0x7fa4848df220>]"
      ]
     },
     "execution_count": 499,
     "metadata": {},
     "output_type": "execute_result"
    },
    {
     "data": {
      "image/png": "[encoded data removed]",
      "text/plain": [
       "<Figure size 432x288 with 1 Axes>"
      ]
     },
     "metadata": {
      "needs_background": "light"
     },
     "output_type": "display_data"
    }
   ],
   "source": [
    "#!g1.1\n",
    "qq = torch.nn.Linear(2, 1)\n",
    "optimizer = torch.optim.SGD(qq.parameters(), lr=3e-3)\n",
    "scheduler = torch.optim.lr_scheduler.StepLR(optimizer, step_size=500, gamma=0.5)\n",
    "lrs = []\n",
    "\n",
    "for e in range(10):\n",
    "    for i in range(1000):\n",
    "        optimizer.step()\n",
    "        lrs.append(optimizer.param_groups[0][\"lr\"])\n",
    "    #     print(\"Factor = \",0.1 if i!=0 and i%2!=0 else 1,\" , Learning Rate = \",optimizer.param_groups[0][\"lr\"])\n",
    "        scheduler.step()\n",
    "\n",
    "plt.plot(range(10000),lrs)"
   ]
  },
  {
   "cell_type": "code",
   "execution_count": 500,
   "id": "137f4523",
   "metadata": {
    "cellId": "2pcw9ymmg4p7mrmhe57xzo"
   },
   "outputs": [
    {
     "data": {
      "text/plain": [
       "array([False, False, False, ...,  True,  True,  True])"
      ]
     },
     "execution_count": 500,
     "metadata": {},
     "output_type": "execute_result"
    }
   ],
   "source": [
    "#!g1.1\n",
    "np.array(lrs) < 1e-6"
   ]
  },
  {
   "cell_type": "code",
   "execution_count": 696,
   "id": "926ebf35",
   "metadata": {
    "cellId": "r5znc9elddioxffy66vo"
   },
   "outputs": [
    {
     "data": {
      "text/plain": [
       "57"
      ]
     },
     "execution_count": 696,
     "metadata": {},
     "output_type": "execute_result"
    }
   ],
   "source": [
    "#!g1.1\n",
    "s = 0\n",
    "for p in base_model.parameters():\n",
    "    s += p.requires_grad\n",
    "#     print(p.requires_grad)\n",
    "    p.requires_grad = False\n",
    "s"
   ]
  },
  {
   "cell_type": "code",
   "execution_count": 721,
   "id": "bcc6c4fc",
   "metadata": {
    "cellId": "sqfge3mtg2fgnb1wtoq7b"
   },
   "outputs": [],
   "source": [
    "#!g1.1\n",
    "m_params = list(model.parameters())\n",
    "bm_params = list(base_model.to(device).parameters())"
   ]
  },
  {
   "cell_type": "code",
   "execution_count": 973,
   "id": "b4a909d2",
   "metadata": {
    "cellId": "dw8smaatbduwzue6exbdkm"
   },
   "outputs": [],
   "source": [
    "#!g1.1\n",
    "\n",
    "def unfreeze_one_layer(model, num_of_freezed_layer):\n",
    "    layers = list(model.parameters())\n",
    "    \n",
    "    if len(layers) < num_of_freezed_layer:\n",
    "        return\n",
    "    \n",
    "    layers[num_of_freezed_layer - 1].requires_grad = True\n",
    "    "
   ]
  },
  {
   "cell_type": "code",
   "execution_count": 951,
   "id": "0022db70",
   "metadata": {
    "cellId": "ywb5r5jwf5lia0s8az0g5a"
   },
   "outputs": [
    {
     "data": {
      "text/plain": [
       "35"
      ]
     },
     "execution_count": 951,
     "metadata": {},
     "output_type": "execute_result"
    }
   ],
   "source": [
    "#!g1.1\n",
    "num_of_freezed_layer"
   ]
  },
  {
   "cell_type": "code",
   "execution_count": 954,
   "id": "c2c2dcdd",
   "metadata": {
    "cellId": "0bhzpw3h4v27gdh8h8hx8b4"
   },
   "outputs": [],
   "source": [
    "#!g1.1\n",
    "unfreeze_one_layer(model, num_of_freezed_layer)"
   ]
  },
  {
   "cell_type": "code",
   "execution_count": 955,
   "id": "3faea35d",
   "metadata": {
    "cellId": "3p84sx9nyicskkxo0h4tx"
   },
   "outputs": [
    {
     "data": {
      "text/plain": [
       "45"
      ]
     },
     "execution_count": 955,
     "metadata": {},
     "output_type": "execute_result"
    }
   ],
   "source": [
    "#!g1.1\n",
    "s = 0\n",
    "\n",
    "for p in model.parameters():\n",
    "    s += p.requires_grad\n",
    "s"
   ]
  },
  {
   "cell_type": "code",
   "execution_count": 794,
   "id": "64b92ded",
   "metadata": {
    "cellId": "m541cj3atcq27d97crkwf"
   },
   "outputs": [
    {
     "data": {
      "text/plain": [
       "True"
      ]
     },
     "execution_count": 794,
     "metadata": {},
     "output_type": "execute_result"
    }
   ],
   "source": [
    "#!g1.1\n",
    "# l.requires_grad = True\n",
    "l.requires_grad"
   ]
  },
  {
   "cell_type": "code",
   "execution_count": 795,
   "id": "3c41388a",
   "metadata": {
    "cellId": "inw1ybnji9fivamsfnrmxn"
   },
   "outputs": [],
   "source": [
    "#!g1.1\n",
    "l.backward()"
   ]
  },
  {
   "cell_type": "code",
   "execution_count": null,
   "id": "94592c9e",
   "metadata": {
    "cellId": "agq2yg9mpr9eye0r48fpdb"
   },
   "outputs": [],
   "source": [
    "#!g1.1\n"
   ]
  }
 ],
 "metadata": {
  "language_info": {
   "codemirror_mode": {
    "name": "ipython",
    "version": 3
   },
   "file_extension": ".py",
   "mimetype": "text/x-python",
   "name": "python",
   "nbconvert_exporter": "python",
   "pygments_lexer": "ipython3",
   "version": "3.7.7"
  },
  "notebookId": "b4080bcd-8e63-4852-b615-1487758e00d2",
  "notebookPath": "hse-hackaton/baseline_model/test.ipynb"
 },
 "nbformat": 4,
 "nbformat_minor": 5
}
